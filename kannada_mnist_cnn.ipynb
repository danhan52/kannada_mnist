{
 "cells": [
  {
   "cell_type": "markdown",
   "metadata": {
    "colab_type": "text",
    "id": "view-in-github"
   },
   "source": [
    "<a href=\"https://colab.research.google.com/github/danhan52/kannada_mnist/blob/master/kannada_mnist_cnn.ipynb\" target=\"_parent\"><img src=\"https://colab.research.google.com/assets/colab-badge.svg\" alt=\"Open In Colab\"/></a>"
   ]
  },
  {
   "cell_type": "code",
   "execution_count": 0,
   "metadata": {
    "colab": {
     "base_uri": "https://localhost:8080/",
     "height": 82
    },
    "colab_type": "code",
    "id": "Av2oqu6pb5OR",
    "outputId": "60cbbd93-0ab4-4b8c-a653-00c17a7125ee"
   },
   "outputs": [
    {
     "data": {
      "text/html": [
       "<p style=\"color: red;\">\n",
       "The default version of TensorFlow in Colab will soon switch to TensorFlow 2.x.<br>\n",
       "We recommend you <a href=\"https://www.tensorflow.org/guide/migrate\" target=\"_blank\">upgrade</a> now \n",
       "or ensure your notebook will continue to use TensorFlow 1.x via the <code>%tensorflow_version 1.x</code> magic:\n",
       "<a href=\"https://colab.research.google.com/notebooks/tensorflow_version.ipynb\" target=\"_blank\">more info</a>.</p>\n"
      ],
      "text/plain": [
       "<IPython.core.display.HTML object>"
      ]
     },
     "metadata": {
      "tags": []
     },
     "output_type": "display_data"
    }
   ],
   "source": [
    "# from __future__ import print_function\n",
    "import tensorflow as tf\n",
    "from tensorflow import keras\n",
    "from tensorflow.keras.preprocessing.image import ImageDataGenerator\n",
    "from tensorflow.keras.models import Sequential\n",
    "import tensorflow.keras.layers as tkl\n",
    "# Dropout, Flatten, Conv2D, MaxPooling2D, BatchNormalization, LeakyReLU\n",
    "from tensorflow.keras.callbacks import ModelCheckpoint, ReduceLROnPlateau\n",
    "from sklearn.model_selection import train_test_split\n",
    "\n",
    "import pandas as pd\n",
    "import numpy as np\n",
    "import matplotlib.pyplot as plt\n",
    "\n",
    "# Supress warning and informational messages\n",
    "import os\n",
    "os.environ['TF_CPP_MIN_LOG_LEVEL'] = '3' "
   ]
  },
  {
   "cell_type": "code",
   "execution_count": 0,
   "metadata": {
    "colab": {},
    "colab_type": "code",
    "id": "lTA4aMbFcPMV"
   },
   "outputs": [],
   "source": [
    "# sizes of batch and # of epochs of data\n",
    "batch_size = 64\n",
    "epochs = 30"
   ]
  },
  {
   "cell_type": "markdown",
   "metadata": {
    "colab_type": "text",
    "id": "tvaWHWgIcQoU"
   },
   "source": [
    "# Set up data\n"
   ]
  },
  {
   "cell_type": "code",
   "execution_count": 0,
   "metadata": {
    "colab": {
     "base_uri": "https://localhost:8080/",
     "height": 90
    },
    "colab_type": "code",
    "id": "t968FmUacR4k",
    "outputId": "934955b8-4548-4313-f871-93f171c22340"
   },
   "outputs": [
    {
     "name": "stdout",
     "output_type": "stream",
     "text": [
      "Setting up data in...  /content\n",
      "x_train shape: (51000, 28, 28, 1)\n",
      "x_test shape: (9000, 28, 28, 1)\n",
      "x_dig shape: (10240, 28, 28, 1)\n"
     ]
    }
   ],
   "source": [
    "\n",
    "# read in data from csv\n",
    "print('Setting up data in... ', os.getcwd())\n",
    "# os.chdir('C:/Users/danny/repos/kannada_mnist')\n",
    "train = pd.read_csv('train.csv')\n",
    "test = pd.read_csv('Dig-MNIST.csv')\n",
    "kgl_test = pd.read_csv('test.csv')\n",
    "\n",
    "# Number of classes - do not change unless the data changes\n",
    "num_classes = len(np.unique(train['label']))\n",
    "\n",
    "# input image dimensions - change if using non-mnist dataset\n",
    "img_rows, img_cols = 28, 28\n",
    "\n",
    "# get x and y for train and test\n",
    "x_train = np.array(train.iloc[:,1:])\n",
    "y_train = np.array(train['label'])\n",
    "\n",
    "x_dig = np.array(test.iloc[:,1:])\n",
    "y_dig = np.array(test['label'])\n",
    "\n",
    "x_kgl = np.array(kgl_test.iloc[:,1:])\n",
    "\n",
    "\n",
    "x_train = x_train.reshape(x_train.shape[0], img_rows, img_cols, 1)\n",
    "x_dig = x_dig.reshape(x_dig.shape[0], img_rows, img_cols, 1)\n",
    "x_kgl = x_kgl.reshape(x_kgl.shape[0], img_rows, img_cols, 1)\n",
    "input_shape = (img_rows, img_cols, 1)\n",
    "\n",
    "#   Type convert and scale the test and training data\n",
    "x_train = x_train.astype('float32')\n",
    "x_dig = x_dig.astype('float32')\n",
    "x_train /= 255\n",
    "x_dig /= 255\n",
    "\n",
    "# convert class vectors to binary class matrices.  One-hot encoding\n",
    "y_train = keras.utils.to_categorical(y_train, num_classes)\n",
    "y_dig = keras.utils.to_categorical(y_dig, num_classes)\n",
    "\n",
    "# split into train and test sets\n",
    "x_train, x_test, y_train, y_test = train_test_split(x_train, y_train, random_state=42, test_size=0.15)\n",
    "\n",
    "print('x_train shape:', x_train.shape)\n",
    "print('x_test shape:', x_test.shape)\n",
    "print('x_dig shape:', x_dig.shape)\n",
    "\n",
    "datagen = ImageDataGenerator(\n",
    "        featurewise_center=False,  # set input mean to 0 over the dataset\n",
    "        samplewise_center=False,  # set each sample mean to 0\n",
    "        featurewise_std_normalization=False,  # divide inputs by std of the dataset\n",
    "        samplewise_std_normalization=False,  # divide each input by its std\n",
    "        zca_whitening=False,  # apply ZCA whitening\n",
    "        rotation_range=10,  # randomly rotate images in the range (degrees, 0 to 180)\n",
    "        zoom_range = 0.25, # Randomly zoom image \n",
    "        width_shift_range=0.25,  # randomly shift images horizontally (fraction of total width)\n",
    "        height_shift_range=0.25,  # randomly shift images vertically (fraction of total height)\n",
    "        shear_range = 0.1,\n",
    "        horizontal_flip=False,  # randomly flip images\n",
    "        vertical_flip=False)  # randomly flip images\n",
    "\n",
    "\n",
    "datagen.fit(x_train)"
   ]
  },
  {
   "cell_type": "markdown",
   "metadata": {
    "colab_type": "text",
    "id": "M7JWQxVxcZOo"
   },
   "source": [
    "# Model 1\n"
   ]
  },
  {
   "cell_type": "code",
   "execution_count": 0,
   "metadata": {
    "colab": {
     "base_uri": "https://localhost:8080/",
     "height": 110
    },
    "colab_type": "code",
    "id": "nPCgJip2cbnG",
    "outputId": "6fcfc6f5-2549-415e-f192-8b9a88d1b3c3"
   },
   "outputs": [
    {
     "name": "stdout",
     "output_type": "stream",
     "text": [
      "Building model\n",
      "WARNING:tensorflow:From /usr/local/lib/python3.6/dist-packages/tensorflow_core/python/ops/resource_variable_ops.py:1630: calling BaseResourceVariable.__init__ (from tensorflow.python.ops.resource_variable_ops) with constraint is deprecated and will be removed in a future version.\n",
      "Instructions for updating:\n",
      "If using Keras pass *_constraint arguments to layers.\n"
     ]
    }
   ],
   "source": [
    "\n",
    "###################################################################################################\n",
    "# CNN model ######################################################################################\n",
    "###################################################################################################\n",
    "# bulid model\n",
    "print('Building model')\n",
    "model = Sequential()\n",
    "\n",
    "model.add(tkl.Conv2D(filters = 32, kernel_size = (5,5), padding = 'Same', \n",
    "                 activation ='relu', input_shape = input_shape))\n",
    "model.add(tkl.Conv2D(filters = 32, kernel_size = (5,5), padding = 'Same', \n",
    "                 activation ='relu'))\n",
    "model.add(tkl.BatchNormalization(momentum=.15))\n",
    "model.add(tkl.MaxPool2D(pool_size=(2,2)))\n",
    "model.add(tkl.Dropout(0.25))\n",
    "\n",
    "\n",
    "model.add(tkl.Conv2D(filters = 64, kernel_size = (3,3), padding = 'Same', \n",
    "                 activation ='relu'))\n",
    "model.add(tkl.Conv2D(filters = 64, kernel_size = (3,3), padding = 'Same', \n",
    "                 activation ='relu'))\n",
    "model.add(tkl.BatchNormalization(momentum=0.15))\n",
    "model.add(tkl.MaxPool2D(pool_size=(2,2), strides=(2,2)))\n",
    "model.add(tkl.Dropout(0.25))\n",
    "\n",
    "model.add(tkl.Conv2D(filters = 32, kernel_size = (5,5),padding = 'Same', \n",
    "                 activation ='relu', input_shape = (28,28,1)))\n",
    "model.add(tkl.Conv2D(filters = 32, kernel_size = (5,5),padding = 'Same', \n",
    "                 activation ='relu'))\n",
    "model.add(tkl.BatchNormalization(momentum=.15))\n",
    "model.add(tkl.MaxPool2D(pool_size=(2,2)))\n",
    "model.add(tkl.Dropout(0.25))\n",
    "\n",
    "\n",
    "model.add(tkl.Flatten())\n",
    "model.add(tkl.Dense(256, activation = \"relu\"))\n",
    "model.add(tkl.Dropout(0.4))\n",
    "model.add(tkl.Dense(10, activation = \"softmax\"))\n",
    "\n",
    "# define compile to minimize categorical loss, use ada delta optimized, and optimize to maximizing accuracy\n",
    "optimizer=keras.optimizers.Adam(lr=0.001,beta_1=0.9,beta_2=0.999)\n",
    "model.compile(loss=keras.losses.categorical_crossentropy,\n",
    "              optimizer=optimizer,\n",
    "              metrics=['acc'])\n",
    "\n",
    "# checkpoint\n",
    "filepath = \"output/k-cnn-{epoch:02d}-{val_acc:.2f}.hdf5\"\n",
    "checkpoint = ModelCheckpoint(filepath, monitor='val_acc', verbose=1, save_best_only=True, mode='max')\n",
    "learning_rate_reduction = ReduceLROnPlateau(monitor='val_acc', \n",
    "                                            patience=3, \n",
    "                                            verbose=1, \n",
    "                                            factor=0.5, \n",
    "                                            min_lr=0.00001)\n",
    "callbacks_list = [learning_rate_reduction]\n"
   ]
  },
  {
   "cell_type": "code",
   "execution_count": null,
   "metadata": {
    "colab": {
     "base_uri": "https://localhost:8080/",
     "height": 1000
    },
    "colab_type": "code",
    "id": "DLaKb65DceIA",
    "outputId": "934ab730-882f-441a-e169-fda5ebc12c98"
   },
   "outputs": [],
   "source": [
    "#   Train the model and test/validate the mode with the test data after each cycle (epoch) through the training data\n",
    "#   Return history of loss and accuracy for each epoch\n",
    "print('Running model')\n",
    "hist = model.fit_generator(datagen.flow(x_train,y_train, batch_size=batch_size),\n",
    "          epochs=epochs,\n",
    "          verbose=1,\n",
    "          validation_data=(x_test, y_test),\n",
    "          callbacks=callbacks_list,\n",
    "          steps_per_epoch=x_train.shape[0]/batch_size)\n"
   ]
  },
  {
   "cell_type": "code",
   "execution_count": 0,
   "metadata": {
    "colab": {
     "base_uri": "https://localhost:8080/",
     "height": 302
    },
    "colab_type": "code",
    "id": "l7_KzOQBcgk3",
    "outputId": "8083a5cd-b072-4f1b-cdb5-3abdc03112b3"
   },
   "outputs": [
    {
     "name": "stdout",
     "output_type": "stream",
     "text": [
      "Test loss: 0.5897650323815469\n",
      "Test accuracy: 0.89833987\n"
     ]
    },
    {
     "data": {
      "image/png": "iVBORw0KGgoAAAANSUhEUgAAAYAAAAD4CAYAAADlwTGnAAAABHNCSVQICAgIfAhkiAAAAAlwSFlz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\nr1sAAAAASUVORK5CYII=\n",
      "text/plain": [
       "<Figure size 432x288 with 1 Axes>"
      ]
     },
     "metadata": {
      "tags": []
     },
     "output_type": "display_data"
    }
   ],
   "source": [
    "\n",
    "#   Evaluate the model with the test data to get the scores on \"real\" data.\n",
    "score = model.evaluate(x_dig, y_dig, verbose=0)\n",
    "print('Test loss:', score[0])\n",
    "print('Test accuracy:', score[1])\n",
    "\n",
    "#   Plot data to see relationships in training and validation data\n",
    "epoch_list = list(range(1, len(hist.history['acc']) + 1))  # values for x axis [1, 2, ..., # of epochs]\n",
    "plt.plot(epoch_list, hist.history['acc'], epoch_list, hist.history['val_acc'])\n",
    "plt.legend(('Training Accuracy', 'Validation Accuracy'))\n",
    "plt.show()\n",
    "# plt.savefig('output/train_kcnn.png')\n"
   ]
  },
  {
   "cell_type": "markdown",
   "metadata": {
    "colab_type": "text",
    "id": "XAGU5gLNciS5"
   },
   "source": [
    "# Model 2\n"
   ]
  },
  {
   "cell_type": "code",
   "execution_count": 0,
   "metadata": {
    "colab": {
     "base_uri": "https://localhost:8080/",
     "height": 110
    },
    "colab_type": "code",
    "id": "lNI-ejN2ckK7",
    "outputId": "a44b2235-fcb5-4969-fafa-180bd2d5c174"
   },
   "outputs": [
    {
     "name": "stdout",
     "output_type": "stream",
     "text": [
      "Building model\n",
      "WARNING:tensorflow:From /usr/local/lib/python3.6/dist-packages/tensorflow_core/python/keras/initializers.py:119: calling RandomUniform.__init__ (from tensorflow.python.ops.init_ops) with dtype is deprecated and will be removed in a future version.\n",
      "Instructions for updating:\n",
      "Call initializer instance with the dtype argument instead of passing it to the constructor\n"
     ]
    }
   ],
   "source": [
    "\n",
    "###################################################################################################\n",
    "# CNN model 2 ####################################################################################\n",
    "###################################################################################################\n",
    "# bulid model\n",
    "print('Building model')\n",
    "model = Sequential()\n",
    "\n",
    "\n",
    "model.add(tkl.Conv2D(64, (3,3), padding='same', input_shape=(28, 28, 1)))\n",
    "model.add(tkl.BatchNormalization(momentum=0.5, epsilon=1e-5, gamma_initializer=\"uniform\"))\n",
    "model.add(tkl.LeakyReLU(alpha=0.1))\n",
    "model.add(tkl.Conv2D(64,  (3,3), padding='same'))\n",
    "model.add(tkl.BatchNormalization(momentum=0.1, epsilon=1e-5, gamma_initializer=\"uniform\"))\n",
    "model.add(tkl.LeakyReLU(alpha=0.1))\n",
    "\n",
    "model.add(tkl.MaxPooling2D(2, 2))\n",
    "model.add(tkl.Dropout(0.2))\n",
    "\n",
    "model.add(tkl.Conv2D(128, (3,3), padding='same'))\n",
    "model.add(tkl.BatchNormalization(momentum=0.2, epsilon=1e-5, gamma_initializer=\"uniform\"))\n",
    "model.add(tkl.LeakyReLU(alpha=0.1))\n",
    "model.add(tkl.Conv2D(128, (3,3), padding='same'))\n",
    "model.add(tkl.BatchNormalization(momentum=0.1, epsilon=1e-5, gamma_initializer=\"uniform\"))\n",
    "model.add(tkl.LeakyReLU(alpha=0.1))\n",
    "\n",
    "model.add(tkl.MaxPooling2D(2,2))\n",
    "model.add(tkl.Dropout(0.2))    \n",
    "\n",
    "model.add(tkl.Conv2D(256, (3,3), padding='same'))\n",
    "model.add(tkl.BatchNormalization(momentum=0.2, epsilon=1e-5, gamma_initializer=\"uniform\"))\n",
    "model.add(tkl.LeakyReLU(alpha=0.1))\n",
    "model.add(tkl.Conv2D(256, (3,3), padding='same'))\n",
    "model.add(tkl.BatchNormalization(momentum=0.1, epsilon=1e-5, gamma_initializer=\"uniform\"))\n",
    "model.add(tkl.LeakyReLU(alpha=0.1))\n",
    "\n",
    "model.add(tkl.MaxPooling2D(2,2))\n",
    "model.add(tkl.Dropout(0.2))\n",
    "\n",
    "\n",
    "model.add(tkl.Flatten())\n",
    "model.add(tkl.Dense(256))\n",
    "model.add(tkl.LeakyReLU(alpha=0.1))\n",
    "\n",
    "model.add(tkl.BatchNormalization())\n",
    "model.add(tkl.Dense(10, activation='softmax'))\n",
    "\n",
    "# define compile to minimize categorical loss, use ada delta optimized, and optimize to maximizing accuracy\n",
    "optimizer=keras.optimizers.Adam(lr=0.001,beta_1=0.9,beta_2=0.999)\n",
    "model.compile(loss=keras.losses.categorical_crossentropy,\n",
    "              optimizer=optimizer,\n",
    "              metrics=['acc'])\n",
    "\n",
    "# checkpoint\n",
    "filepath = \"output/k-cnn-{epoch:02d}-{val_acc:.2f}.hdf5\"\n",
    "checkpoint = ModelCheckpoint(filepath, monitor='val_acc', verbose=1, save_best_only=True, mode='max')\n",
    "learning_rate_reduction = ReduceLROnPlateau(monitor='val_acc', \n",
    "                                            patience=3, \n",
    "                                            verbose=1, \n",
    "                                            factor=0.5, \n",
    "                                            min_lr=0.00001)\n",
    "callbacks_list = [learning_rate_reduction]\n"
   ]
  },
  {
   "cell_type": "code",
   "execution_count": null,
   "metadata": {
    "colab": {
     "base_uri": "https://localhost:8080/",
     "height": 1000
    },
    "colab_type": "code",
    "id": "54CTDhNEcnkn",
    "outputId": "b716b493-4b1b-4b13-a865-c6beff79b104"
   },
   "outputs": [],
   "source": [
    "#   Train the model and test/validate the mode with the test data after each cycle (epoch) through the training data\n",
    "#   Return history of loss and accuracy for each epoch\n",
    "print('Running model')\n",
    "hist = model.fit_generator(datagen.flow(x_train,y_train, batch_size=batch_size),\n",
    "          epochs=epochs,\n",
    "          verbose=1,\n",
    "          validation_data=(x_test, y_test),\n",
    "          callbacks=callbacks_list,\n",
    "          steps_per_epoch=x_train.shape[0]/batch_size)"
   ]
  },
  {
   "cell_type": "code",
   "execution_count": 0,
   "metadata": {
    "colab": {
     "base_uri": "https://localhost:8080/",
     "height": 302
    },
    "colab_type": "code",
    "id": "Ab_BHQAxcp3R",
    "outputId": "5f362755-38da-4e26-ca8b-a6a04df5cbd4"
   },
   "outputs": [
    {
     "name": "stdout",
     "output_type": "stream",
     "text": [
      "Test loss: 0.3954368540973519\n",
      "Test accuracy: 0.9125\n"
     ]
    },
    {
     "data": {
      "image/png": "iVBORw0KGgoAAAANSUhEUgAAAXoAAAD4CAYAAADiry33AAAABHNCSVQICAgIfAhkiAAAAAlwSFlz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\nzP1/Byne4bGrMMIAAAAASUVORK5CYII=\n",
      "text/plain": [
       "<Figure size 432x288 with 1 Axes>"
      ]
     },
     "metadata": {
      "tags": []
     },
     "output_type": "display_data"
    }
   ],
   "source": [
    "#   Evaluate the model with the test data to get the scores on \"real\" data.\n",
    "score = model.evaluate(x_dig, y_dig, verbose=0)\n",
    "print('Test loss:', score[0])\n",
    "print('Test accuracy:', score[1])\n",
    "\n",
    "#   Plot data to see relationships in training and validation data\n",
    "epoch_list = list(range(1, len(hist.history['acc']) + 1))  # values for x axis [1, 2, ..., # of epochs]\n",
    "plt.plot(epoch_list, hist.history['acc'], epoch_list, hist.history['val_acc'])\n",
    "plt.legend(('Training Accuracy', 'Validation Accuracy'))\n",
    "plt.show()\n",
    "# plt.savefig('output/train_kcnn.png')"
   ]
  },
  {
   "cell_type": "markdown",
   "metadata": {
    "colab_type": "text",
    "id": "rWHYmPUSbGde"
   },
   "source": [
    "# Transfer learning\n",
    "Only works on CPU - crashes with GPU. Also get horrible accuracy."
   ]
  },
  {
   "cell_type": "code",
   "execution_count": 0,
   "metadata": {
    "colab": {
     "base_uri": "https://localhost:8080/",
     "height": 82
    },
    "colab_type": "code",
    "id": "-CUWL7XqKgV9",
    "outputId": "f897c85e-0231-4c2f-8471-ee367be60fdc"
   },
   "outputs": [
    {
     "data": {
      "text/html": [
       "<p style=\"color: red;\">\n",
       "The default version of TensorFlow in Colab will soon switch to TensorFlow 2.x.<br>\n",
       "We recommend you <a href=\"https://www.tensorflow.org/guide/migrate\" target=\"_blank\">upgrade</a> now \n",
       "or ensure your notebook will continue to use TensorFlow 1.x via the <code>%tensorflow_version 1.x</code> magic:\n",
       "<a href=\"https://colab.research.google.com/notebooks/tensorflow_version.ipynb\" target=\"_blank\">more info</a>.</p>\n"
      ],
      "text/plain": [
       "<IPython.core.display.HTML object>"
      ]
     },
     "metadata": {
      "tags": []
     },
     "output_type": "display_data"
    }
   ],
   "source": [
    "# from __future__ import print_function\n",
    "import tensorflow.keras as keras\n",
    "from tensorflow.keras.preprocessing.image import ImageDataGenerator\n",
    "from tensorflow.keras.models import Sequential, Model\n",
    "from tensorflow.keras.layers import Dense, Dropout, Flatten, Conv2D, MaxPooling2D, BatchNormalization, MaxPool2D, LeakyReLU, GlobalAveragePooling2D\n",
    "from tensorflow.keras import backend as K\n",
    "from tensorflow.keras.callbacks import ModelCheckpoint, ReduceLROnPlateau\n",
    "from sklearn.model_selection import train_test_split\n",
    "from tensorflow.keras.applications.inception_v3 import InceptionV3, preprocess_input\n",
    "\n",
    "import pandas as pd\n",
    "import numpy as np\n",
    "import matplotlib.pyplot as plt\n",
    "\n",
    "# Supress warning and informational messages\n",
    "import os\n",
    "os.environ['TF_CPP_MIN_LOG_LEVEL'] = '3' "
   ]
  },
  {
   "cell_type": "code",
   "execution_count": 0,
   "metadata": {
    "colab": {},
    "colab_type": "code",
    "id": "ufvI3pvXK5Ir"
   },
   "outputs": [],
   "source": [
    "# sizes of batch and # of epochs of data\n",
    "batch_size = 64\n",
    "epochs = 10\n",
    "Number_FC_Neurons = 1024"
   ]
  },
  {
   "cell_type": "code",
   "execution_count": 0,
   "metadata": {
    "colab": {
     "base_uri": "https://localhost:8080/",
     "height": 109
    },
    "colab_type": "code",
    "id": "sRlG15KqKnyw",
    "outputId": "63922696-bde8-477a-a0fb-17c1ab69d0fc"
   },
   "outputs": [
    {
     "name": "stdout",
     "output_type": "stream",
     "text": [
      "Setting up data in...  /content\n",
      "x_train shape: (51000, 28, 28, 3)\n",
      "x_test shape: (9000, 28, 28, 3)\n",
      "x_dig shape: (10240, 28, 28, 3)\n",
      "x_dig shape: (5000, 28, 28, 3)\n"
     ]
    }
   ],
   "source": [
    "# read in data from csv\n",
    "print('Setting up data in... ', os.getcwd())\n",
    "train = pd.read_csv('train.csv')\n",
    "test = pd.read_csv('Dig-MNIST.csv')\n",
    "kgl_test = pd.read_csv('test.csv')\n",
    "\n",
    "# Number of classes - do not change unless the data changes\n",
    "num_classes = len(np.unique(train['label']))\n",
    "\n",
    "# input image dimensions - change if using non-mnist dataset\n",
    "img_rows, img_cols = 28, 28\n",
    "\n",
    "# get x and y for train and test\n",
    "x_train = np.array(train.iloc[:,1:])\n",
    "y_train = np.array(train['label'])\n",
    "\n",
    "x_dig = np.array(test.iloc[:,1:])\n",
    "y_dig = np.array(test['label'])\n",
    "\n",
    "x_kgl = np.array(kgl_test.iloc[:,1:])\n",
    "\n",
    "\n",
    "x_train = x_train.reshape(x_train.shape[0], img_rows, img_cols, 1)\n",
    "x_dig = x_dig.reshape(x_dig.shape[0], img_rows, img_cols, 1)\n",
    "x_kgl = x_kgl.reshape(x_kgl.shape[0], img_rows, img_cols, 1)\n",
    "input_shape = (img_rows, img_cols, 1)\n",
    "\n",
    "#   Type convert and scale the test and training data\n",
    "x_train = x_train.astype('float32')\n",
    "x_dig = x_dig.astype('float32')\n",
    "x_train /= 255\n",
    "x_dig /= 255\n",
    "\n",
    "# convert class vectors to binary class matrices.  One-hot encoding\n",
    "y_train = keras.utils.to_categorical(y_train, num_classes)\n",
    "y_dig = keras.utils.to_categorical(y_dig, num_classes)\n",
    "\n",
    "# split into train and test sets\n",
    "x_train, x_test, y_train, y_test = train_test_split(x_train, y_train, random_state=42, test_size=0.15)\n",
    "\n",
    "x_train = np.repeat(x_train, 3, -1)\n",
    "x_test = np.repeat(x_test, 3, -1)\n",
    "x_dig = np.repeat(x_dig, 3, -1)\n",
    "x_kgl = np.repeat(x_kgl, 3, -1)\n",
    "\n",
    "print('x_train shape:', x_train.shape)\n",
    "print('x_test shape:', x_test.shape)\n",
    "print('x_dig shape:', x_dig.shape)\n",
    "print('x_dig shape:', x_kgl.shape)"
   ]
  },
  {
   "cell_type": "code",
   "execution_count": 0,
   "metadata": {
    "colab": {},
    "colab_type": "code",
    "id": "BkjAaba5L88d"
   },
   "outputs": [],
   "source": [
    "datagen = ImageDataGenerator(\n",
    "        featurewise_center=False,  # set input mean to 0 over the dataset\n",
    "        samplewise_center=False,  # set each sample mean to 0\n",
    "        featurewise_std_normalization=False,  # divide inputs by std of the dataset\n",
    "        samplewise_std_normalization=False,  # divide each input by its std\n",
    "        zca_whitening=False,  # apply ZCA whitening\n",
    "        rotation_range=10,  # randomly rotate images in the range (degrees, 0 to 180)\n",
    "        zoom_range = 0.25, # Randomly zoom image \n",
    "        width_shift_range=0.25,  # randomly shift images horizontally (fraction of total width)\n",
    "        height_shift_range=0.25,  # randomly shift images vertically (fraction of total height)\n",
    "        shear_range = 0.1,\n",
    "        horizontal_flip=False,  # randomly flip images\n",
    "        vertical_flip=False)  # randomly flip images\n",
    "\n",
    "\n",
    "datagen.fit(x_train)"
   ]
  },
  {
   "cell_type": "code",
   "execution_count": 0,
   "metadata": {
    "colab": {
     "base_uri": "https://localhost:8080/",
     "height": 129
    },
    "colab_type": "code",
    "id": "3ncmocTiL95E",
    "outputId": "d0fff886-ea34-4c87-b72a-875577b9e9bc"
   },
   "outputs": [
    {
     "name": "stdout",
     "output_type": "stream",
     "text": [
      "Building model\n",
      "WARNING:tensorflow:From /usr/local/lib/python3.6/dist-packages/tensorflow_core/python/ops/resource_variable_ops.py:1630: calling BaseResourceVariable.__init__ (from tensorflow.python.ops.resource_variable_ops) with constraint is deprecated and will be removed in a future version.\n",
      "Instructions for updating:\n",
      "If using Keras pass *_constraint arguments to layers.\n",
      "Inception v3 base model without last FC loaded\n"
     ]
    }
   ],
   "source": [
    "# bulid model\n",
    "print('Building model')\n",
    "# Load the Inception V3 model and load it with it's pre-trained weights.  But exclude the final \n",
    "#    Fully Connected layer\n",
    "InceptionV3_base_model = InceptionV3(weights='imagenet', include_top=False) #include_top=False excludes final FC layer\n",
    "print('Inception v3 base model without last FC loaded')\n",
    "#print(InceptionV3_base_model.summary())     # display the Inception V3 model hierarchy\n",
    "\n",
    "# Define the layers in the new classification prediction \n",
    "x = InceptionV3_base_model.output\n",
    "x = GlobalAveragePooling2D()(x)\n",
    "x = Dense(Number_FC_Neurons, activation='relu')(x)        # new FC layer, random init\n",
    "predictions = Dense(num_classes, activation='softmax')(x)  # new softmax layer\n",
    "\n",
    "# Define trainable model which links input from the Inception V3 base model to the new classification prediction layers\n",
    "model = Model(inputs=InceptionV3_base_model.input, outputs=predictions)\n",
    "\n",
    "Layers_To_Freeze = 172\n",
    "for layer in model.layers[:Layers_To_Freeze]:\n",
    "  layer.trainable = False\n",
    "for layer in model.layers[Layers_To_Freeze:]:\n",
    "  layer.trainable = True\n",
    "model.compile(optimizer=keras.optimizers.SGD(lr=0.0001, momentum=0.9), \n",
    "              loss='categorical_crossentropy', \n",
    "              metrics=['acc'])"
   ]
  },
  {
   "cell_type": "code",
   "execution_count": 0,
   "metadata": {
    "colab": {
     "base_uri": "https://localhost:8080/",
     "height": 441
    },
    "colab_type": "code",
    "id": "DKMTWkEAL_8q",
    "outputId": "50a5fe5e-bba7-4b84-bcef-25478514baab"
   },
   "outputs": [
    {
     "name": "stdout",
     "output_type": "stream",
     "text": [
      "Running model\n",
      "Train on 51000 samples, validate on 9000 samples\n",
      "Epoch 1/10\n",
      "51000/51000 [==============================] - 234s 5ms/sample - loss: nan - acc: 0.1008 - val_loss: nan - val_acc: 0.0953\n",
      "Epoch 2/10\n",
      "51000/51000 [==============================] - 230s 5ms/sample - loss: nan - acc: 0.1008 - val_loss: nan - val_acc: 0.0953\n",
      "Epoch 3/10\n",
      "51000/51000 [==============================] - 224s 4ms/sample - loss: nan - acc: 0.1008 - val_loss: nan - val_acc: 0.0953\n",
      "Epoch 4/10\n",
      "51000/51000 [==============================] - 218s 4ms/sample - loss: nan - acc: 0.1008 - val_loss: nan - val_acc: 0.0953\n",
      "Epoch 5/10\n",
      "51000/51000 [==============================] - 227s 4ms/sample - loss: nan - acc: 0.1008 - val_loss: nan - val_acc: 0.0953\n",
      "Epoch 6/10\n",
      "51000/51000 [==============================] - 221s 4ms/sample - loss: nan - acc: 0.1008 - val_loss: nan - val_acc: 0.0953\n",
      "Epoch 7/10\n",
      "51000/51000 [==============================] - 221s 4ms/sample - loss: nan - acc: 0.1008 - val_loss: nan - val_acc: 0.0953\n",
      "Epoch 8/10\n",
      "51000/51000 [==============================] - 209s 4ms/sample - loss: nan - acc: 0.1008 - val_loss: nan - val_acc: 0.0953\n",
      "Epoch 9/10\n",
      "51000/51000 [==============================] - 201s 4ms/sample - loss: nan - acc: 0.1008 - val_loss: nan - val_acc: 0.0953\n",
      "Epoch 10/10\n",
      "51000/51000 [==============================] - 201s 4ms/sample - loss: nan - acc: 0.1008 - val_loss: nan - val_acc: 0.0953\n"
     ]
    }
   ],
   "source": [
    "#   Train the model and test/validate the mode with the test data after each cycle (epoch) through the training data\n",
    "#   Return history of loss and accuracy for each epoch\n",
    "print('Running model')\n",
    "hist = model.fit(x_train, y_train,\n",
    "          epochs=epochs,\n",
    "          verbose=1,\n",
    "          validation_data=(x_test, y_test))"
   ]
  },
  {
   "cell_type": "code",
   "execution_count": 0,
   "metadata": {
    "colab": {
     "base_uri": "https://localhost:8080/",
     "height": 303
    },
    "colab_type": "code",
    "id": "M0yG0YXbclyN",
    "outputId": "80e29b20-7d95-492e-939a-2514ecbf92fb"
   },
   "outputs": [
    {
     "name": "stdout",
     "output_type": "stream",
     "text": [
      "Test loss: nan\n",
      "Test accuracy: 0.1\n"
     ]
    },
    {
     "data": {
      "image/png": "iVBORw0KGgoAAAANSUhEUgAAAYAAAAD5CAYAAAAuneICAAAABHNCSVQICAgIfAhkiAAAAAlwSFlz\nAAALEgAACxIB0t1+/AAAADh0RVh0U29mdHdhcmUAbWF0cGxvdGxpYiB2ZXJzaW9uMy4xLjIsIGh0\ndHA6Ly9tYXRwbG90bGliLm9yZy8li6FKAAAdSUlEQVR4nO3de3SV1b3u8e8DASkX5apuQU1O64Vw\nSQireKFeEEHsOSVVQEFU1CqVVttjjz1lV0ettN0Hz3G7UYeltVaqHk2kWIUeRarVjtJhVYIVKKCS\n0lgDiEAQUXRr4Hf+WIs0iYEsIGER3+czBsN3zTXf+c75CutZ720uRQRmZpY87XLdATMzyw0HgJlZ\nQjkAzMwSygFgZpZQDgAzs4RyAJiZJVReNpUkjQHuBNoD90XEzEbvnwnMAgYDEyNiXr33pgA3Z17+\nOCIeyJT/BLgc6BERXbPpR+/evSM/Pz+bqmZmlrF06dLNEdGncbmaew5AUnvgDWAUUA0sASZFxKp6\ndfKBw4EbgQW7A0BST6ACSAEBLAWGRsRWSacCbwJrsg2AVCoVFRUV2VQ1M7MMSUsjItW4PJtTQMOA\nyohYGxEfA+VAaf0KEVEVEcuBXY3WPQ94JiJqImIr8AwwJrPOixGxYT/GYmZmLSCbAOgLvFXvdXWm\nLBsHsq6ZmbWiQ/4isKSpkiokVWzatCnX3TEz+8zIJgDWAcfWe90vU5aNA1kXgIi4NyJSEZHq0+dT\n1zDMzGw/ZRMAS4ATJBVI6ghMBBZk2f4iYLSkHpJ6AKMzZWZmlmPNBkBE1ALXkf7gXg3MjYiVkmZI\nGgsg6YuSqoEJwM8lrcysWwP8iHSILAFmZMqQ9L8z63SWVC3phy0/PDMz25NmbwM9lPg2UDOzfben\n20CzehCsrbv1tytZtf69XHfDzGy/FB5zOLd8ZUCLt3vI3wVkZmatIxFHAK2RnGZmbZ2PAMzMEsoB\nYGaWUA4AM7OEcgCYmSWUA8DMLKEcAGZmCeUAMDNLKAeAmVlCOQDMzBLKAWBmllAOADOzhHIAmJkl\nlAPAzCyhHABmZgnlADAzSygHgJlZQjkAzMwSygFgZpZQDgAzs4RyAJiZJZQDwMwsoRwAZmYJ5QAw\nM0soB4CZWUJlFQCSxkh6XVKlpOlNvH+mpFck1Uoa3+i9KZLWZP5MqVc+VNKKTJt3SdKBD8fMzLLV\nbABIag/cA5wPFAKTJBU2qvYP4ArgkUbr9gRuAU4BhgG3SOqReXs2cA1wQubPmP0ehZmZ7bNsjgCG\nAZURsTYiPgbKgdL6FSKiKiKWA7sarXse8ExE1ETEVuAZYIykfwEOj4gXIyKAB4GvHuhgzMwse9kE\nQF/grXqvqzNl2djTun0zy/vTppmZtYBD/iKwpKmSKiRVbNq0KdfdMTP7zMgmANYBx9Z73S9Tlo09\nrbsus9xsmxFxb0SkIiLVp0+fLDdrZmbNySYAlgAnSCqQ1BGYCCzIsv1FwGhJPTIXf0cDiyJiA/Ce\npFMzd/9cDszfj/6bmdl+ajYAIqIWuI70h/lqYG5ErJQ0Q9JYAElflFQNTAB+LmllZt0a4EekQ2QJ\nMCNTBvAN4D6gEvgbsLBFR2ZmZnul9E04bUMqlYqKiopcd8PMrE2RtDQiUo3LD/mLwGZm1jocAGZm\nCeUAMDNLKAeAmVlCOQDMzBLKAWBmllAOADOzhHIAmJkllAPAzCyhHABmZgnlADAzSygHgJlZQjkA\nzMwSygFgZpZQDgAzs4RyAJiZJZQDwMwsoRwAZmYJ5QAwM0soB4CZWUI5AMzMEsoBYGaWUA4AM7OE\ncgCYmSWUA8DMLKEcAGZmCeUAMDNLqKwCQNIYSa9LqpQ0vYn3D5P0aOb9lyTlZ8o7SpojaYWkZZLO\nrrfOxZKWS1op6bYWGo+ZmWWp2QCQ1B64BzgfKAQmSSpsVO1rwNaI+ALwH8DuD/RrACJiEDAK+HdJ\n7ST1Av4PMDIiBgBHSxrZEgMyM7PsZHMEMAyojIi1EfExUA6UNqpTCjyQWZ4HjJQk0oHxHEBEvAO8\nC6SA/wKsiYhNmXWeBcYdyEDMzGzfZBMAfYG36r2uzpQ1WSciaoFtQC9gGTBWUp6kAmAocCxQCZwk\nKV9SHvDVTLmZmR0kea3c/v1Af6ACeBN4AdgZEVslTQMeBXZlyj/fVAOSpgJTAY477rhW7q6ZWXJk\ncwSwjobfzvtlypqsk/lGfwSwJSJqI+KGiCiOiFKgO/AGQET8NiJOiYjTgNd3lzcWEfdGRCoiUn36\n9NmXsZmZ2V5kEwBLgBMkFUjqCEwEFjSqswCYklkeDzwXESGps6QuAJJGAbURsSrz+sjMf3sA3wDu\nO+DRmJlZ1po9BRQRtZKuAxYB7YH7I2KlpBlARUQsAH4JPCSpEqghHRIARwKLJO0ifZRwWb2m75RU\nlFmeERFNHgGYmVnrUETkug9ZS6VSUVFRketumJm1KZKWRkSqcbmfBDYzSygHgJlZQjkAzMwSygFg\nZpZQDgAzs4RyAJiZJZQDwMwsoRwAZmYJ5QAwM0soB4CZWUI5AMzMEsoBYGaWUK39gzBm1sI++eQT\nqqur+eijj3LdFTvEdOrUiX79+tGhQ4es6jsAzNqY6upqunXrRn5+Pumf3jaDiGDLli1UV1dTUFCQ\n1To+BWTWxnz00Uf06tXLH/7WgCR69eq1T0eGDgCzNsgf/taUff174QAws32yZcsWiouLKS4u5uij\nj6Zv3751rz/++OOs2rjyyit5/fXX91rnnnvu4eGHH26JLgOwceNG8vLyuO8+//rsbv5FMLM2ZvXq\n1fTv3z/X3QDghz/8IV27duXGG29sUB4RRATt2h063zHvvvtu5s6dS8eOHfn973/fatupra0lLy93\nl1eb+vvhXwQzs1ZVWVlJYWEhkydPZsCAAWzYsIGpU6eSSqUYMGAAM2bMqKv7pS99iVdffZXa2lq6\nd+/O9OnTKSoq4rTTTuOdd94B4Oabb2bWrFl19adPn86wYcM46aSTeOGFFwD44IMPGDduHIWFhYwf\nP55UKsWrr77aZP/KysqYNWsWa9euZcOGDXXlTz75JCUlJRQVFTF69GgAtm/fzpQpUxg8eDCDBw/m\niSeeqOvrbuXl5Vx99dUAXHrppUybNo1hw4bx/e9/nxdffJHTTjuNIUOGMHz4cNasWQOkw+GGG25g\n4MCBDB48mJ/+9Kf87ne/Y/z48XXtLly4kAkTJhzw/49s+C4gszbs1t+uZNX691q0zcJjDueWrwzY\nr3Vfe+01HnzwQVKp9JfNmTNn0rNnT2praxkxYgTjx4+nsLCwwTrbtm3jrLPOYubMmXznO9/h/vvv\nZ/r06Z9qOyJ4+eWXWbBgATNmzODpp5/m7rvv5uijj+axxx5j2bJllJSUNNmvqqoqampqGDp0KBMm\nTGDu3Ll8+9vf5u2332batGksXryY448/npqaGiB9ZNOnTx+WL19ORPDuu+82O/YNGzbw4osv0q5d\nO7Zt28bixYvJy8vj6aef5uabb+bRRx9l9uzZrF+/nmXLltG+fXtqamro3r071113HVu2bKFXr17M\nmTOHq666al93/X7xEYCZtZjPf/7zdR/+kP7WXVJSQklJCatXr2bVqlWfWudzn/sc559/PgBDhw6l\nqqqqybYvvPDCT9X505/+xMSJEwEoKipiwICmg6u8vJyLL74YgIkTJ1JWVgbAn//8Z0aMGMHxxx8P\nQM+ePQF49tln+eY3vwmkL6z26NGj2bFPmDCh7pTXu+++y7hx4xg4cCA33ngjK1eurGv32muvpX37\n9nXba9euHZMnT+aRRx6hpqaGpUuX1h2JtDYfAZi1Yfv7Tb21dOnSpW55zZo13Hnnnbz88st0796d\nSy+9tMlbFDt27Fi33L59e2pra5ts+7DDDmu2zp6UlZWxefNmHnjgAQDWr1/P2rVr96mNdu3aUf+a\naeOx1B/7TTfdxHnnncc3vvENKisrGTNmzF7bvuqqqxg3bhwAF198cV1AtDYfAZhZq3jvvffo1q0b\nhx9+OBs2bGDRokUtvo3hw4czd+5cAFasWNHkEcaqVauora1l3bp1VFVVUVVVxXe/+13Ky8s5/fTT\nef7553nzzTcB6k4BjRo1invuuQdIn3raunUr7dq1o0ePHqxZs4Zdu3bx+OOP77Ff27Zto2/fvgD8\n6le/qisfNWoUP/vZz9i5c2eD7R177LH07t2bmTNncsUVVxzYTtkHDgAzaxUlJSUUFhZy8sknc/nl\nlzN8+PAW38b111/PunXrKCws5NZbb6WwsJAjjjiiQZ2ysjIuuOCCBmXjxo2jrKyMo446itmzZ1Na\nWkpRURGTJ08G4JZbbmHjxo0MHDiQ4uJiFi9eDMBtt93Geeedx+mnn06/fv322K/vfe97fPe736Wk\npKTBUcPXv/51jj76aAYPHkxRUVFdeAFccsklFBQUcOKJJx7wfsmWbwM1a2MOpdtAc622tpba2lo6\nderEmjVrGD16NGvWrMnpbZj769prr+W0005jypQpB9TOvtwG2vb2kplZxvvvv8/IkSOpra0lIvj5\nz3/eJj/8i4uL6dGjB3fddddB3W7b21NmZhndu3dn6dKlue7GAdvTswutLatrAJLGSHpdUqWkT92g\nK+kwSY9m3n9JUn6mvKOkOZJWSFom6ex660zKlC+X9LSk3i00JjMzy0KzASCpPXAPcD5QCEySVNio\n2teArRHxBeA/gNsy5dcARMQgYBTw75LaScoD7gRGRMRgYDlwXQuMx8zMspTNEcAwoDIi1kbEx0A5\nUNqoTinwQGZ5HjBS6WnpCoHnACLiHeBdIAUo86dLpt7hwPoDHIuZme2DbAKgL/BWvdfVmbIm60RE\nLbAN6AUsA8ZKypNUAAwFjo2IT4BpwArSH/yFwC8PYBxmZraPWvs5gPtJB0YFMAt4AdgpqQPpABgC\nHEP6FNC/NtWApKmSKiRVbNq0qZW7a2bNGTFixKce6po1axbTpk3b63pdu3YF0k/h1p/8rL6zzz6b\n5m71njVrFjt27Kh7/eUvfzmruXqyVVxcXDe9xGddNgGwDji23ut+mbIm62TO7x8BbImI2oi4ISKK\nI6IU6A68ARQDRMTfIv0gwlzg9KY2HhH3RkQqIlJ9+vTZh6GZWWuYNGkS5eXlDcrKy8uZNGlSVusf\nc8wxzJs3b7+33zgAnnrqqQazdB6I1atXs3PnThYvXswHH3zQIm02ZV+nsmgt2QTAEuAESQWSOgIT\ngQWN6iwAdj+9MB54LiJCUmdJXQAkjQJqI2IV6cAolLT7E30UsPoAx2JmB8H48eN58skn6378paqq\nivXr13PGGWfU3ZdfUlLCoEGDmD9//qfWr6qqYuDAgQB8+OGHTJw4kf79+3PBBRfw4Ycf1tWbNm1a\n3VTSt9xyCwB33XUX69evZ8SIEYwYMQKA/Px8Nm/eDMAdd9zBwIEDGThwYN1U0lVVVfTv359rrrmG\nAQMGMHr06Abbqa+srIzLLruM0aNHN+h7ZWUl5557LkVFRZSUlPC3v/0NSD8ZPGjQIIqKiupmMK1/\nFLN582by8/OB9JQQY8eO5ZxzzmHkyJF73VcPPvhg3dPCl112Gdu3b6egoIBPPvkESE+zUf/1/mr2\nOYCIqJV0HbAIaA/cHxErJc0AKiJiAenz9w9JqgRqSIcEwJHAIkm7SH/oX5Zpc72kW4E/SvoEeBO4\n4oBGYpZEC6fD2ytats2jB8H5M/f4ds+ePRk2bBgLFy6ktLSU8vJyLrroIiTRqVMnHn/8cQ4//HA2\nb97MqaeeytixY/f4U4WzZ8+mc+fOrF69muXLlzeYzvknP/kJPXv2ZOfOnYwcOZLly5fzrW99izvu\nuIPnn3+e3r0b3jm+dOlS5syZw0svvUREcMopp3DWWWfVzd9TVlbGL37xCy666CIee+wxLr300k/1\n59FHH+WZZ57htdde4+677+aSSy4BYPLkyUyfPp0LLriAjz76iF27drFw4ULmz5/PSy+9ROfOnevm\n9dmbV155heXLl9dNkd3Uvlq1ahU//vGPeeGFF+jduzc1NTV069aNs88+myeffJKvfvWrlJeXc+GF\nF9KhQ4dmt7k3WV0DiIinIuLEiPh8RPwkU/aDzIc/EfFRREyIiC9ExLCIWJspr4qIkyKif0ScGxFv\n1mvzZ5nywRHxlYjYckAjMbODpv5poPqnfyKC73//+wwePJhzzz2XdevWsXHjxj2288c//rHug3j3\nj6/sNnfuXEpKShgyZAgrV65scqK3+v70pz9xwQUX0KVLF7p27cqFF15YN4dPQUEBxcXFwJ6nnK6o\nqKB3794cd9xxjBw5kr/85S/U1NSwfft21q1bVzefUKdOnejcuTPPPvssV155JZ07dwb+OZX03owa\nNaqu3p721XPPPceECRPqAm53/auvvpo5c+YAMGfOHK688spmt9ccPwls1pbt5Zt6ayotLeWGG27g\nlVdeYceOHQwdOhSAhx9+mE2bNrF06VI6dOhAfn5+k1NAN+fvf/87t99+O0uWLKFHjx5cccUV+9XO\nbrunkob0dNJNnQIqKyvjtddeqztl89577/HYY4/t8wXhvLw8du3aBex9yuh93VfDhw+nqqqKP/zh\nD+zcubPuNNqB8GygZrbPunbtyogRI7jqqqsaXPzdtm0bRx55JB06dGgwzfKenHnmmTzyyCMA/PWv\nf2X58uVA+sO3S5cuHHHEEWzcuJGFCxfWrdOtWze2b9/+qbbOOOMMnnjiCXbs2MEHH3zA448/zhln\nnJHVeHbt2sXcuXNZsWJF3ZTR8+fPp6ysjG7dutGvXz+eeOIJAP7zP/+THTt2MGrUKObMmVN3QXr3\nKaD8/Py66Sn2drF7T/vqnHPO4de//jVbtmxp0C7A5ZdfziWXXNIi3/7BAWBm+2nSpEksW7asQQBM\nnjyZiooKBg0axIMPPsjJJ5+81zamTZvG+++/T//+/fnBD35QdyRRVFTEkCFDOPnkk7nkkksaTCU9\ndepUxowZU3cReLeSkhKuuOIKhg0bximnnMLVV1/NkCFDshrL4sWL6du3L8ccc0xd2ZlnnsmqVavY\nsGEDDz30EHfddReDBw/m9NNP5+2332bMmDGMHTuWVCpFcXExt99+OwA33ngjs2fPZsiQIXUXp5uy\np301YMAAbrrpJs466yyKior4zne+02CdrVu3Zn3HVXM8HbRZG+PpoJNr3rx5zJ8/n4ceemiPdTwd\ntJnZZ8z111/PwoULeeqpp1qsTQeAmVkbcPfdd7d4m74GYGaWUA4AszaoLV27s4NnX/9eOADM2phO\nnTqxZcsWh4A1EBFs2bKFTp06Zb2OrwGYtTH9+vWjuroaz45rjXXq1Il+/fplXd8BYNbGdOjQgYKC\nglx3wz4DfArIzCyhHABmZgnlADAzSygHgJlZQjkAzMwSygFgZpZQDgAzs4RyAJiZJZQDwMwsoRwA\nZmYJ5QAwM0soB4CZWUI5AMzMEsoBYGaWUA4AM7OEcgCYmSVUVgEgaYyk1yVVSprexPuHSXo08/5L\nkvIz5R0lzZG0QtIySWdnyrtJerXen82SZrXguMzMrBnN/iKYpPbAPcAooBpYImlBRKyqV+1rwNaI\n+IKkicBtwMXANQARMUjSkcBCSV+MiO1Acb1tLAV+01KDMjOz5mVzBDAMqIyItRHxMVAOlDaqUwo8\nkFmeB4yUJKAQeA4gIt4B3gVS9VeUdCJwJLB4fwdhZmb7LpsA6Au8Ve91daasyToRUQtsA3oBy4Cx\nkvIkFQBDgWMbrTsReDQiYt+7b2Zm+6u1fxT+fqA/UAG8CbwA7GxUZyJw2Z4akDQVmApw3HHHtU4v\nzcwSKJsjgHU0/NbeL1PWZB1JecARwJaIqI2IGyKiOCJKge7AG7tXklQE5EXE0j1tPCLujYhURKT6\n9OmT1aDMzKx52QTAEuAESQWSOpL+xr6gUZ0FwJTM8njguYgISZ0ldQGQNAqobXTxeBJQdkAjMDOz\n/dLsKaCIqJV0HbAIaA/cHxErJc0AKiJiAfBL4CFJlUAN6ZCA9MXdRZJ2kT5KaHyq5yLgyy0zFDMz\n2xdqS9deU6lUVFRU5LobZmZtiqSlEZFqXO4ngc3MEsoBYGaWUA4AM7OEcgCYmSWUA8DMLKEcAGZm\nCeUAMDNLKAeAmVlCOQDMzBLKAWBmllAOADOzhHIAmJkllAPAzCyhHABmZgnlADAzSygHgJlZQjkA\nzMwSygFgZpZQDgAzs4RyAJiZJZQDwMwsoRwAZmYJ5QAwM0soB4CZWUI5AMzMEsoBYGaWUA4AM7OE\nyioAJI2R9LqkSknTm3j/MEmPZt5/SVJ+pryjpDmSVkhaJunseut0lHSvpDckvSZpXAuNyczMspDX\nXAVJ7YF7gFFANbBE0oKIWFWv2teArRHxBUkTgduAi4FrACJikKQjgYWSvhgRu4CbgHci4kRJ7YCe\nLToyMzPbq2yOAIYBlRGxNiI+BsqB0kZ1SoEHMsvzgJGSBBQCzwFExDvAu0AqU+8q4H9l3tsVEZsP\nZCBmZrZvsgmAvsBb9V5XZ8qarBMRtcA2oBewDBgrKU9SATAUOFZS98x6P5L0iqRfSzrqAMZhZmb7\nqLUvAt9POjAqgFnAC8BO0qee+gEvREQJ8Gfg9qYakDRVUoWkik2bNrVyd83MkiObAFgHHFvvdb9M\nWZN1JOUBRwBbIqI2Im6IiOKIKAW6A28AW4AdwG8y6/8aKGlq4xFxb0SkIiLVp0+fLIdlZmbNySYA\nlgAnSCqQ1BGYCCxoVGcBMCWzPB54LiJCUmdJXQAkjQJqI2JVRATwW+DszDojgVWYmdlB0+xdQBFR\nK+k6YBHQHrg/IlZKmgFURMQC4JfAQ5IqgRrSIQFwJLBI0i7SRwmX1Wv6e5l1ZgGbgCtbalBmZtY8\npb+Mtw2pVCoqKipy3Q0zszZF0tKISDUu95PAZmYJ5QAwM0soB4CZWUI5AMzMEsoBYGaWUA4AM7OE\ncgCYmSWUA8DMLKEcAGZmCeUAMDNLKAeAmVlCOQDMzBLKAWBmllAOADOzhHIAmJkllAPAzCyhHABm\nZgnlADAzS6hmfxP4M2HhdHh7Ra57YWa2f44eBOfPbPFmfQRgZpZQyTgCaIXkNDNr63wEYGaWUA4A\nM7OEcgCYmSWUA8DMLKEcAGZmCeUAMDNLKAeAmVlCOQDMzBJKEZHrPmRN0ibgzVz34wD1BjbnuhOH\nCO+Lhrw/GvL++KcD3RfHR0SfxoVtKgA+CyRVREQq1/04FHhfNOT90ZD3xz+11r7wKSAzs4RyAJiZ\nJZQD4OC7N9cdOIR4XzTk/dGQ98c/tcq+8DUAM7OE8hGAmVlCOQAOAknHSnpe0ipJKyV9O9d9OhRI\nai/pL5L+X677kmuSukuaJ+k1SaslnZbrPuWKpBsy/07+KqlMUqdc9+lgknS/pHck/bVeWU9Jz0ha\nk/lvj5bYlgPg4KgF/kdEFAKnAt+UVJjjPh0Kvg2sznUnDhF3Ak9HxMlAEQndL5L6At8CUhExEGgP\nTMxtrw66XwFjGpVNB34fEScAv8+8PmAOgIMgIjZExCuZ5e2k/3H3zW2vcktSP+C/Avflui+5JukI\n4EzglwAR8XFEvJvbXuVUHvA5SXlAZ2B9jvtzUEXEH4GaRsWlwAOZ5QeAr7bEthwAB5mkfGAI8FJu\ne5Jzs4D/CezKdUcOAQXAJmBO5pTYfZK65LpTuRAR64DbgX8AG4BtEfG73PbqkHBURGzILL8NHNUS\njToADiJJXYHHgP8eEe/luj+5Ium/Ae9ExNJc9+UQkQeUALMjYgjwAS10iN/WZM5tl5IOxWOALpIu\nzW2vDi2RvnWzRW7fdAAcJJI6kP7wfzgifpPr/uTYcGCspCqgHDhH0v/NbZdyqhqojojdR4XzSAdC\nEp0L/D0iNkXEJ8BvgNNz3KdDwUZJ/wKQ+e87LdGoA+AgkCTS53dXR8Qdue5PrkXEv0ZEv4jIJ32B\n77mISOy3vIh4G3hL0kmZopHAqhx2KZf+AZwqqXPm381IEnpBvJEFwJTM8hRgfks06gA4OIYDl5H+\npvtq5s+Xc90pO6RcDzwsaTlQDPxbjvuTE5mjoHnAK8AK0p9RiXoiWFIZ8GfgJEnVkr4GzARGSVpD\n+ihpZotsy08Cm5klk48AzMwSygFgZpZQDgAzs4RyAJiZJZQDwMwsoRwAZmYJ5QAwM0soB4CZWUL9\nf3g/qwCNd0MmAAAAAElFTkSuQmCC\n",
      "text/plain": [
       "<Figure size 432x288 with 1 Axes>"
      ]
     },
     "metadata": {
      "tags": []
     },
     "output_type": "display_data"
    }
   ],
   "source": [
    "#   Evaluate the model with the test data to get the scores on \"real\" data.\n",
    "score = model.evaluate(x_dig, y_dig, verbose=0)\n",
    "print('Test loss:', score[0])\n",
    "print('Test accuracy:', score[1])\n",
    "\n",
    "#   Plot data to see relationships in training and validation data\n",
    "epoch_list = list(range(1, len(hist.history['acc']) + 1))  # values for x axis [1, 2, ..., # of epochs]\n",
    "plt.plot(epoch_list, hist.history['acc'], epoch_list, hist.history['val_acc'])\n",
    "plt.legend(('Training Accuracy', 'Validation Accuracy'))\n",
    "plt.show()\n",
    "# plt.savefig('output/train_kcnn.png')"
   ]
  }
 ],
 "metadata": {
  "accelerator": "GPU",
  "colab": {
   "authorship_tag": "ABX9TyNSfmH3ZtAHrmjzVqjKUwiN",
   "collapsed_sections": [],
   "include_colab_link": true,
   "name": "kannada_mnist_cnn.ipynb",
   "provenance": [],
   "toc_visible": true
  },
  "kernelspec": {
   "display_name": "Python 3",
   "language": "python",
   "name": "python3"
  },
  "language_info": {
   "codemirror_mode": {
    "name": "ipython",
    "version": 3
   },
   "file_extension": ".py",
   "mimetype": "text/x-python",
   "name": "python",
   "nbconvert_exporter": "python",
   "pygments_lexer": "ipython3",
   "version": "3.7.4"
  }
 },
 "nbformat": 4,
 "nbformat_minor": 1
}
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\nzP1/Byne4bGrMMIAAAAASUVORK5CYII=\n",
      "text/plain": [
       "<Figure size 432x288 with 1 Axes>"
      ]
     },
     "metadata": {
      "tags": []
     },
     "output_type": "display_data"
    }
   ],
   "source": [
    "#   Evaluate the model with the test data to get the scores on \"real\" data.\n",
    "score = model.evaluate(x_dig, y_dig, verbose=0)\n",
    "print('Test loss:', score[0])\n",
    "print('Test accuracy:', score[1])\n",
    "\n",
    "#   Plot data to see relationships in training and validation data\n",
    "epoch_list = list(range(1, len(hist.history['acc']) + 1))  # values for x axis [1, 2, ..., # of epochs]\n",
    "plt.plot(epoch_list, hist.history['acc'], epoch_list, hist.history['val_acc'])\n",
    "plt.legend(('Training Accuracy', 'Validation Accuracy'))\n",
    "plt.show()\n",
    "# plt.savefig('output/train_kcnn.png')"
   ]
  },
  {
   "cell_type": "markdown",
   "metadata": {
    "colab_type": "text",
    "id": "rWHYmPUSbGde"
   },
   "source": [
    "# Transfer learning\n",
    "Only works on CPU - crashes with GPU. Also get horrible accuracy."
   ]
  },
  {
   "cell_type": "code",
   "execution_count": 0,
   "metadata": {
    "colab": {
     "base_uri": "https://localhost:8080/",
     "height": 82
    },
    "colab_type": "code",
    "id": "-CUWL7XqKgV9",
    "outputId": "f897c85e-0231-4c2f-8471-ee367be60fdc"
   },
   "outputs": [
    {
     "data": {
      "text/html": [
       "<p style=\"color: red;\">\n",
       "The default version of TensorFlow in Colab will soon switch to TensorFlow 2.x.<br>\n",
       "We recommend you <a href=\"https://www.tensorflow.org/guide/migrate\" target=\"_blank\">upgrade</a> now \n",
       "or ensure your notebook will continue to use TensorFlow 1.x via the <code>%tensorflow_version 1.x</code> magic:\n",
       "<a href=\"https://colab.research.google.com/notebooks/tensorflow_version.ipynb\" target=\"_blank\">more info</a>.</p>\n"
      ],
      "text/plain": [
       "<IPython.core.display.HTML object>"
      ]
     },
     "metadata": {
      "tags": []
     },
     "output_type": "display_data"
    }
   ],
   "source": [
    "# from __future__ import print_function\n",
    "import tensorflow.keras as keras\n",
    "from tensorflow.keras.preprocessing.image import ImageDataGenerator\n",
    "from tensorflow.keras.models import Sequential, Model\n",
    "from tensorflow.keras.layers import Dense, Dropout, Flatten, Conv2D, MaxPooling2D, BatchNormalization, MaxPool2D, LeakyReLU, GlobalAveragePooling2D\n",
    "from tensorflow.keras import backend as K\n",
    "from tensorflow.keras.callbacks import ModelCheckpoint, ReduceLROnPlateau\n",
    "from sklearn.model_selection import train_test_split\n",
    "from tensorflow.keras.applications.inception_v3 import InceptionV3, preprocess_input\n",
    "\n",
    "import pandas as pd\n",
    "import numpy as np\n",
    "import matplotlib.pyplot as plt\n",
    "\n",
    "# Supress warning and informational messages\n",
    "import os\n",
    "os.environ['TF_CPP_MIN_LOG_LEVEL'] = '3' "
   ]
  },
  {
   "cell_type": "code",
   "execution_count": 0,
   "metadata": {
    "colab": {},
    "colab_type": "code",
    "id": "ufvI3pvXK5Ir"
   },
   "outputs": [],
   "source": [
    "# sizes of batch and # of epochs of data\n",
    "batch_size = 64\n",
    "epochs = 10\n",
    "Number_FC_Neurons = 1024"
   ]
  },
  {
   "cell_type": "code",
   "execution_count": 0,
   "metadata": {
    "colab": {
     "base_uri": "https://localhost:8080/",
     "height": 109
    },
    "colab_type": "code",
    "id": "sRlG15KqKnyw",
    "outputId": "63922696-bde8-477a-a0fb-17c1ab69d0fc"
   },
   "outputs": [
    {
     "name": "stdout",
     "output_type": "stream",
     "text": [
      "Setting up data in...  /content\n",
      "x_train shape: (51000, 28, 28, 3)\n",
      "x_test shape: (9000, 28, 28, 3)\n",
      "x_dig shape: (10240, 28, 28, 3)\n",
      "x_dig shape: (5000, 28, 28, 3)\n"
     ]
    }
   ],
   "source": [
    "# read in data from csv\n",
    "print('Setting up data in... ', os.getcwd())\n",
    "train = pd.read_csv('train.csv')\n",
    "test = pd.read_csv('Dig-MNIST.csv')\n",
    "kgl_test = pd.read_csv('test.csv')\n",
    "\n",
    "# Number of classes - do not change unless the data changes\n",
    "num_classes = len(np.unique(train['label']))\n",
    "\n",
    "# input image dimensions - change if using non-mnist dataset\n",
    "img_rows, img_cols = 28, 28\n",
    "\n",
    "# get x and y for train and test\n",
    "x_train = np.array(train.iloc[:,1:])\n",
    "y_train = np.array(train['label'])\n",
    "\n",
    "x_dig = np.array(test.iloc[:,1:])\n",
    "y_dig = np.array(test['label'])\n",
    "\n",
    "x_kgl = np.array(kgl_test.iloc[:,1:])\n",
    "\n",
    "\n",
    "x_train = x_train.reshape(x_train.shape[0], img_rows, img_cols, 1)\n",
    "x_dig = x_dig.reshape(x_dig.shape[0], img_rows, img_cols, 1)\n",
    "x_kgl = x_kgl.reshape(x_kgl.shape[0], img_rows, img_cols, 1)\n",
    "input_shape = (img_rows, img_cols, 1)\n",
    "\n",
    "#   Type convert and scale the test and training data\n",
    "x_train = x_train.astype('float32')\n",
    "x_dig = x_dig.astype('float32')\n",
    "x_train /= 255\n",
    "x_dig /= 255\n",
    "\n",
    "# convert class vectors to binary class matrices.  One-hot encoding\n",
    "y_train = keras.utils.to_categorical(y_train, num_classes)\n",
    "y_dig = keras.utils.to_categorical(y_dig, num_classes)\n",
    "\n",
    "# split into train and test sets\n",
    "x_train, x_test, y_train, y_test = train_test_split(x_train, y_train, random_state=42, test_size=0.15)\n",
    "\n",
    "x_train = np.repeat(x_train, 3, -1)\n",
    "x_test = np.repeat(x_test, 3, -1)\n",
    "x_dig = np.repeat(x_dig, 3, -1)\n",
    "x_kgl = np.repeat(x_kgl, 3, -1)\n",
    "\n",
    "print('x_train shape:', x_train.shape)\n",
    "print('x_test shape:', x_test.shape)\n",
    "print('x_dig shape:', x_dig.shape)\n",
    "print('x_dig shape:', x_kgl.shape)"
   ]
  },
  {
   "cell_type": "code",
   "execution_count": 0,
   "metadata": {
    "colab": {},
    "colab_type": "code",
    "id": "BkjAaba5L88d"
   },
   "outputs": [],
   "source": [
    "datagen = ImageDataGenerator(\n",
    "        featurewise_center=False,  # set input mean to 0 over the dataset\n",
    "        samplewise_center=False,  # set each sample mean to 0\n",
    "        featurewise_std_normalization=False,  # divide inputs by std of the dataset\n",
    "        samplewise_std_normalization=False,  # divide each input by its std\n",
    "        zca_whitening=False,  # apply ZCA whitening\n",
    "        rotation_range=10,  # randomly rotate images in the range (degrees, 0 to 180)\n",
    "        zoom_range = 0.25, # Randomly zoom image \n",
    "        width_shift_range=0.25,  # randomly shift images horizontally (fraction of total width)\n",
    "        height_shift_range=0.25,  # randomly shift images vertically (fraction of total height)\n",
    "        shear_range = 0.1,\n",
    "        horizontal_flip=False,  # randomly flip images\n",
    "        vertical_flip=False)  # randomly flip images\n",
    "\n",
    "\n",
    "datagen.fit(x_train)"
   ]
  },
  {
   "cell_type": "code",
   "execution_count": 0,
   "metadata": {
    "colab": {
     "base_uri": "https://localhost:8080/",
     "height": 129
    },
    "colab_type": "code",
    "id": "3ncmocTiL95E",
    "outputId": "d0fff886-ea34-4c87-b72a-875577b9e9bc"
   },
   "outputs": [
    {
     "name": "stdout",
     "output_type": "stream",
     "text": [
      "Building model\n",
      "WARNING:tensorflow:From /usr/local/lib/python3.6/dist-packages/tensorflow_core/python/ops/resource_variable_ops.py:1630: calling BaseResourceVariable.__init__ (from tensorflow.python.ops.resource_variable_ops) with constraint is deprecated and will be removed in a future version.\n",
      "Instructions for updating:\n",
      "If using Keras pass *_constraint arguments to layers.\n",
      "Inception v3 base model without last FC loaded\n"
     ]
    }
   ],
   "source": [
    "# bulid model\n",
    "print('Building model')\n",
    "# Load the Inception V3 model and load it with it's pre-trained weights.  But exclude the final \n",
    "#    Fully Connected layer\n",
    "InceptionV3_base_model = InceptionV3(weights='imagenet', include_top=False) #include_top=False excludes final FC layer\n",
    "print('Inception v3 base model without last FC loaded')\n",
    "#print(InceptionV3_base_model.summary())     # display the Inception V3 model hierarchy\n",
    "\n",
    "# Define the layers in the new classification prediction \n",
    "x = InceptionV3_base_model.output\n",
    "x = GlobalAveragePooling2D()(x)\n",
    "x = Dense(Number_FC_Neurons, activation='relu')(x)        # new FC layer, random init\n",
    "predictions = Dense(num_classes, activation='softmax')(x)  # new softmax layer\n",
    "\n",
    "# Define trainable model which links input from the Inception V3 base model to the new classification prediction layers\n",
    "model = Model(inputs=InceptionV3_base_model.input, outputs=predictions)\n",
    "\n",
    "Layers_To_Freeze = 172\n",
    "for layer in model.layers[:Layers_To_Freeze]:\n",
    "  layer.trainable = False\n",
    "for layer in model.layers[Layers_To_Freeze:]:\n",
    "  layer.trainable = True\n",
    "model.compile(optimizer=keras.optimizers.SGD(lr=0.0001, momentum=0.9), \n",
    "              loss='categorical_crossentropy', \n",
    "              metrics=['acc'])"
   ]
  },
  {
   "cell_type": "code",
   "execution_count": 0,
   "metadata": {
    "colab": {
     "base_uri": "https://localhost:8080/",
     "height": 441
    },
    "colab_type": "code",
    "id": "DKMTWkEAL_8q",
    "outputId": "50a5fe5e-bba7-4b84-bcef-25478514baab"
   },
   "outputs": [
    {
     "name": "stdout",
     "output_type": "stream",
     "text": [
      "Running model\n",
      "Train on 51000 samples, validate on 9000 samples\n",
      "Epoch 1/10\n",
      "51000/51000 [==============================] - 234s 5ms/sample - loss: nan - acc: 0.1008 - val_loss: nan - val_acc: 0.0953\n",
      "Epoch 2/10\n",
      "51000/51000 [==============================] - 230s 5ms/sample - loss: nan - acc: 0.1008 - val_loss: nan - val_acc: 0.0953\n",
      "Epoch 3/10\n",
      "51000/51000 [==============================] - 224s 4ms/sample - loss: nan - acc: 0.1008 - val_loss: nan - val_acc: 0.0953\n",
      "Epoch 4/10\n",
      "51000/51000 [==============================] - 218s 4ms/sample - loss: nan - acc: 0.1008 - val_loss: nan - val_acc: 0.0953\n",
      "Epoch 5/10\n",
      "51000/51000 [==============================] - 227s 4ms/sample - loss: nan - acc: 0.1008 - val_loss: nan - val_acc: 0.0953\n",
      "Epoch 6/10\n",
      "51000/51000 [==============================] - 221s 4ms/sample - loss: nan - acc: 0.1008 - val_loss: nan - val_acc: 0.0953\n",
      "Epoch 7/10\n",
      "51000/51000 [==============================] - 221s 4ms/sample - loss: nan - acc: 0.1008 - val_loss: nan - val_acc: 0.0953\n",
      "Epoch 8/10\n",
      "51000/51000 [==============================] - 209s 4ms/sample - loss: nan - acc: 0.1008 - val_loss: nan - val_acc: 0.0953\n",
      "Epoch 9/10\n",
      "51000/51000 [==============================] - 201s 4ms/sample - loss: nan - acc: 0.1008 - val_loss: nan - val_acc: 0.0953\n",
      "Epoch 10/10\n",
      "51000/51000 [==============================] - 201s 4ms/sample - loss: nan - acc: 0.1008 - val_loss: nan - val_acc: 0.0953\n"
     ]
    }
   ],
   "source": [
    "#   Train the model and test/validate the mode with the test data after each cycle (epoch) through the training data\n",
    "#   Return history of loss and accuracy for each epoch\n",
    "print('Running model')\n",
    "hist = model.fit(x_train, y_train,\n",
    "          epochs=epochs,\n",
    "          verbose=1,\n",
    "          validation_data=(x_test, y_test))"
   ]
  },
  {
   "cell_type": "code",
   "execution_count": 0,
   "metadata": {
    "colab": {
     "base_uri": "https://localhost:8080/",
     "height": 303
    },
    "colab_type": "code",
    "id": "M0yG0YXbclyN",
    "outputId": "80e29b20-7d95-492e-939a-2514ecbf92fb"
   },
   "outputs": [
    {
     "name": "stdout",
     "output_type": "stream",
     "text": [
      "Test loss: nan\n",
      "Test accuracy: 0.1\n"
     ]
    },
    {
     "data": {
      "image/png": "iVBORw0KGgoAAAANSUhEUgAAAYAAAAD5CAYAAAAuneICAAAABHNCSVQICAgIfAhkiAAAAAlwSFlz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\nf3g/qwCNd0MmAAAAAElFTkSuQmCC\n",
      "text/plain": [
       "<Figure size 432x288 with 1 Axes>"
      ]
     },
     "metadata": {
      "tags": []
     },
     "output_type": "display_data"
    }
   ],
   "source": [
    "#   Evaluate the model with the test data to get the scores on \"real\" data.\n",
    "score = model.evaluate(x_dig, y_dig, verbose=0)\n",
    "print('Test loss:', score[0])\n",
    "print('Test accuracy:', score[1])\n",
    "\n",
    "#   Plot data to see relationships in training and validation data\n",
    "epoch_list = list(range(1, len(hist.history['acc']) + 1))  # values for x axis [1, 2, ..., # of epochs]\n",
    "plt.plot(epoch_list, hist.history['acc'], epoch_list, hist.history['val_acc'])\n",
    "plt.legend(('Training Accuracy', 'Validation Accuracy'))\n",
    "plt.show()\n",
    "# plt.savefig('output/train_kcnn.png')"
   ]
  }
 ],
 "metadata": {
  "accelerator": "GPU",
  "colab": {
   "authorship_tag": "ABX9TyNSfmH3ZtAHrmjzVqjKUwiN",
   "collapsed_sections": [],
   "include_colab_link": true,
   "name": "kannada_mnist_cnn.ipynb",
   "provenance": [],
   "toc_visible": true
  },
  "kernelspec": {
   "display_name": "Python 3",
   "language": "python",
   "name": "python3"
  },
  "language_info": {
   "codemirror_mode": {
    "name": "ipython",
    "version": 3
   },
   "file_extension": ".py",
   "mimetype": "text/x-python",
   "name": "python",
   "nbconvert_exporter": "python",
   "pygments_lexer": "ipython3",
   "version": "3.7.4"
  }
 },
 "nbformat": 4,
 "nbformat_minor": 1
}
